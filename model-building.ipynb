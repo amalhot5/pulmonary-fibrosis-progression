{
 "metadata": {
  "language_info": {
   "codemirror_mode": {
    "name": "ipython",
    "version": 3
   },
   "file_extension": ".py",
   "mimetype": "text/x-python",
   "name": "python",
   "nbconvert_exporter": "python",
   "pygments_lexer": "ipython3",
   "version": "3.7.4-final"
  },
  "orig_nbformat": 2,
  "kernelspec": {
   "name": "python_defaultSpec_1598640237107",
   "display_name": "Python 3.7.4 64-bit ('fastai': conda)"
  }
 },
 "nbformat": 4,
 "nbformat_minor": 2,
 "cells": [
  {
   "cell_type": "markdown",
   "metadata": {},
   "source": [
    "# Pulmonary Fibrosis Progression Prediction\n",
    "\n",
    "Created by: Arnav Malhotra\n",
    "\n",
    "This is to build the model for the 2020 Kaggle Competition entitled OSIC Pulmonary Fibrosis Progression where the goal is to predict lung function decline.\n",
    "It can be found at https://www.kaggle.com/c/osic-pulmonary-fibrosis-progression/overview"
   ]
  },
  {
   "cell_type": "code",
   "execution_count": 1,
   "metadata": {},
   "outputs": [],
   "source": [
    "%reload_ext autoreload\n",
    "%autoreload 2\n",
    "%matplotlib inline"
   ]
  },
  {
   "cell_type": "code",
   "execution_count": 2,
   "metadata": {},
   "outputs": [],
   "source": [
    "from fastai.vision import *"
   ]
  },
  {
   "cell_type": "code",
   "execution_count": 3,
   "metadata": {},
   "outputs": [
    {
     "output_type": "execute_result",
     "data": {
      "text/plain": "WindowsPath('osic-pulmonary-fibrosis-progression')"
     },
     "metadata": {},
     "execution_count": 3
    }
   ],
   "source": [
    "# define where the data is located\n",
    "path = Path('osic-pulmonary-fibrosis-progression')\n",
    "path"
   ]
  },
  {
   "cell_type": "code",
   "execution_count": 4,
   "metadata": {},
   "outputs": [
    {
     "output_type": "execute_result",
     "data": {
      "text/plain": "                     Patient  Weeks   FVC    Percent  Age   Sex SmokingStatus\n0  ID00007637202177411956430     -4  2315  58.253649   79  Male     Ex-smoker\n1  ID00007637202177411956430      5  2214  55.712129   79  Male     Ex-smoker\n2  ID00007637202177411956430      7  2061  51.862104   79  Male     Ex-smoker\n3  ID00007637202177411956430      9  2144  53.950679   79  Male     Ex-smoker\n4  ID00007637202177411956430     11  2069  52.063412   79  Male     Ex-smoker",
      "text/html": "<div>\n<style scoped>\n    .dataframe tbody tr th:only-of-type {\n        vertical-align: middle;\n    }\n\n    .dataframe tbody tr th {\n        vertical-align: top;\n    }\n\n    .dataframe thead th {\n        text-align: right;\n    }\n</style>\n<table border=\"1\" class=\"dataframe\">\n  <thead>\n    <tr style=\"text-align: right;\">\n      <th></th>\n      <th>Patient</th>\n      <th>Weeks</th>\n      <th>FVC</th>\n      <th>Percent</th>\n      <th>Age</th>\n      <th>Sex</th>\n      <th>SmokingStatus</th>\n    </tr>\n  </thead>\n  <tbody>\n    <tr>\n      <td>0</td>\n      <td>ID00007637202177411956430</td>\n      <td>-4</td>\n      <td>2315</td>\n      <td>58.253649</td>\n      <td>79</td>\n      <td>Male</td>\n      <td>Ex-smoker</td>\n    </tr>\n    <tr>\n      <td>1</td>\n      <td>ID00007637202177411956430</td>\n      <td>5</td>\n      <td>2214</td>\n      <td>55.712129</td>\n      <td>79</td>\n      <td>Male</td>\n      <td>Ex-smoker</td>\n    </tr>\n    <tr>\n      <td>2</td>\n      <td>ID00007637202177411956430</td>\n      <td>7</td>\n      <td>2061</td>\n      <td>51.862104</td>\n      <td>79</td>\n      <td>Male</td>\n      <td>Ex-smoker</td>\n    </tr>\n    <tr>\n      <td>3</td>\n      <td>ID00007637202177411956430</td>\n      <td>9</td>\n      <td>2144</td>\n      <td>53.950679</td>\n      <td>79</td>\n      <td>Male</td>\n      <td>Ex-smoker</td>\n    </tr>\n    <tr>\n      <td>4</td>\n      <td>ID00007637202177411956430</td>\n      <td>11</td>\n      <td>2069</td>\n      <td>52.063412</td>\n      <td>79</td>\n      <td>Male</td>\n      <td>Ex-smoker</td>\n    </tr>\n  </tbody>\n</table>\n</div>"
     },
     "metadata": {},
     "execution_count": 4
    }
   ],
   "source": [
    "df_train = pd.read_csv(path/'train.csv')\n",
    "df_train.head()"
   ]
  },
  {
   "cell_type": "code",
   "execution_count": 6,
   "metadata": {},
   "outputs": [
    {
     "output_type": "execute_result",
     "data": {
      "text/plain": "                     Patient  Weeks   FVC    Percent  Age   Sex SmokingStatus\n0  ID00419637202311204720264      6  3020  70.186855   73  Male     Ex-smoker\n1  ID00421637202311550012437     15  2739  82.045291   68  Male     Ex-smoker\n2  ID00422637202311677017371      6  1930  76.672493   73  Male     Ex-smoker\n3  ID00423637202312137826377     17  3294  79.258903   72  Male     Ex-smoker\n4  ID00426637202313170790466      0  2925  71.824968   73  Male  Never smoked",
      "text/html": "<div>\n<style scoped>\n    .dataframe tbody tr th:only-of-type {\n        vertical-align: middle;\n    }\n\n    .dataframe tbody tr th {\n        vertical-align: top;\n    }\n\n    .dataframe thead th {\n        text-align: right;\n    }\n</style>\n<table border=\"1\" class=\"dataframe\">\n  <thead>\n    <tr style=\"text-align: right;\">\n      <th></th>\n      <th>Patient</th>\n      <th>Weeks</th>\n      <th>FVC</th>\n      <th>Percent</th>\n      <th>Age</th>\n      <th>Sex</th>\n      <th>SmokingStatus</th>\n    </tr>\n  </thead>\n  <tbody>\n    <tr>\n      <td>0</td>\n      <td>ID00419637202311204720264</td>\n      <td>6</td>\n      <td>3020</td>\n      <td>70.186855</td>\n      <td>73</td>\n      <td>Male</td>\n      <td>Ex-smoker</td>\n    </tr>\n    <tr>\n      <td>1</td>\n      <td>ID00421637202311550012437</td>\n      <td>15</td>\n      <td>2739</td>\n      <td>82.045291</td>\n      <td>68</td>\n      <td>Male</td>\n      <td>Ex-smoker</td>\n    </tr>\n    <tr>\n      <td>2</td>\n      <td>ID00422637202311677017371</td>\n      <td>6</td>\n      <td>1930</td>\n      <td>76.672493</td>\n      <td>73</td>\n      <td>Male</td>\n      <td>Ex-smoker</td>\n    </tr>\n    <tr>\n      <td>3</td>\n      <td>ID00423637202312137826377</td>\n      <td>17</td>\n      <td>3294</td>\n      <td>79.258903</td>\n      <td>72</td>\n      <td>Male</td>\n      <td>Ex-smoker</td>\n    </tr>\n    <tr>\n      <td>4</td>\n      <td>ID00426637202313170790466</td>\n      <td>0</td>\n      <td>2925</td>\n      <td>71.824968</td>\n      <td>73</td>\n      <td>Male</td>\n      <td>Never smoked</td>\n    </tr>\n  </tbody>\n</table>\n</div>"
     },
     "metadata": {},
     "execution_count": 6
    }
   ],
   "source": [
    "df_test = pd.read_csv(path/'test.csv')\n",
    "df_test.head()"
   ]
  },
  {
   "cell_type": "code",
   "execution_count": null,
   "metadata": {},
   "outputs": [],
   "source": []
  }
 ]
}